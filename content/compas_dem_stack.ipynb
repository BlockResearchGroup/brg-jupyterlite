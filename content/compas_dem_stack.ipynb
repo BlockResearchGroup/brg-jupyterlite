{
 "cells": [
  {
   "cell_type": "code",
   "execution_count": 3,
   "metadata": {},
   "outputs": [],
   "source": [
    "# %%capture\n",
    "# %pip install jsonschema networkx numpy scipy pythreejs\n",
    "# %pip install compas>=2.8 --no-deps\n",
    "# %pip install compas_notebook>=0.8.2 --no-deps\n",
    "# %pip install compas_model --no-deps\n",
    "# %pip install compas_dem --no-deps"
   ]
  },
  {
   "cell_type": "markdown",
   "metadata": {},
   "source": [
    "# Discrete Element Models\n",
    "\n",
    "`compas_dem` is a COMPAS package for working with Discrete Element Models, for example for the design of \"modern masonry\" constructions, or for the assessment of historic masonry structures.\n",
    "\n",
    "The repository of `compas_dem` is available [here](https://github.com/BlockResearchGroup/compas_dem) and the documentation [here](https://blockresearchgroup.github.io/compas_model/).\n",
    "\n",
    "In this notebook, we provide a few simple examples that can be run directly in your browser, without the need for any installation. "
   ]
  },
  {
   "cell_type": "markdown",
   "metadata": {},
   "source": [
    "## A Simple Stack"
   ]
  },
  {
   "cell_type": "markdown",
   "metadata": {},
   "source": [
    "To create a stack of blocks with `compas_dem`, we will create a simple box geometry, and then add multiple block elements based with this geometry to a block model."
   ]
  },
  {
   "cell_type": "markdown",
   "metadata": {},
   "source": [
    "To make things a bit more interesting, we will create a leaning stack, by moving each block in the X direction."
   ]
  },
  {
   "cell_type": "code",
   "execution_count": 4,
   "metadata": {},
   "outputs": [],
   "source": [
    "from compas.geometry import Box, Translation\n",
    "from compas_dem.elements import BlockElement\n",
    "from compas_dem.models import BlockModel\n",
    "\n",
    "box = Box(xsize=1, ysize=1, zsize=1)\n",
    "\n",
    "model = BlockModel()\n",
    "\n",
    "for i in range(10):\n",
    "    T = Translation.from_vector([i * 0.01, 0, i * box.zsize])\n",
    "\n",
    "    block = BlockElement.from_box(box, transformation=T)\n",
    "    model.add_element(block)"
   ]
  },
  {
   "cell_type": "markdown",
   "metadata": {},
   "source": [
    "Then we compute the contact interfaces between the blocks and identify the supports."
   ]
  },
  {
   "cell_type": "code",
   "execution_count": 5,
   "metadata": {},
   "outputs": [],
   "source": [
    "model.compute_contacts()"
   ]
  }
 ],
 "metadata": {
  "kernelspec": {
   "display_name": "masonry",
   "language": "python",
   "name": "python3"
  },
  "language_info": {
   "codemirror_mode": {
    "name": "ipython",
    "version": 3
   },
   "file_extension": ".py",
   "mimetype": "text/x-python",
   "name": "python",
   "nbconvert_exporter": "python",
   "pygments_lexer": "ipython3",
   "version": "3.10.14"
  }
 },
 "nbformat": 4,
 "nbformat_minor": 2
}
