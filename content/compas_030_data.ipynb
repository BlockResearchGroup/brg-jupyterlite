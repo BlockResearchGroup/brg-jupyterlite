{
  "metadata": {
    "kernelspec": {
      "name": "python",
      "display_name": "Python (Pyodide)",
      "language": "python"
    },
    "language_info": {
      "codemirror_mode": {
        "name": "python",
        "version": 3
      },
      "file_extension": ".py",
      "mimetype": "text/x-python",
      "name": "python",
      "nbconvert_exporter": "python",
      "pygments_lexer": "ipython3",
      "version": "3.8"
    }
  },
  "nbformat_minor": 4,
  "nbformat": 4,
  "cells": [
    {
      "cell_type": "code",
      "source": "%pip install jsonschema networkx numpy scipy\n%pip install compas>=2.0.0 --no-deps",
      "metadata": {
        "trusted": true
      },
      "outputs": [],
      "execution_count": 6
    },
    {
      "cell_type": "markdown",
      "source": "# Getting Started with COMPAS",
      "metadata": {}
    },
    {
      "cell_type": "code",
      "source": "import compas\nfrom compas.geometry import Box\nimport pathlib\n\nbox = Box(1, 1, 1)\n",
      "metadata": {
        "trusted": true
      },
      "outputs": [],
      "execution_count": 7
    },
    {
      "cell_type": "markdown",
      "source": "# Serialize Compas to JSON",
      "metadata": {}
    },
    {
      "cell_type": "code",
      "source": "# Define the path to the data folder and the JSON file\ndata_folder = pathlib.Path.cwd() / \"data\"\nif not data_folder.exists():\n    data_folder.mkdir(parents=True)\n\n# Serialize the geometry to JSON and save it to the filepath\nfile_path = data_folder / \"box.json\"\ncompas.json_dump(box, file_path)",
      "metadata": {
        "trusted": true,
        "scrolled": true
      },
      "outputs": [],
      "execution_count": 8
    },
    {
      "cell_type": "markdown",
      "source": "# Deserialize JSON to Compas",
      "metadata": {}
    },
    {
      "cell_type": "code",
      "source": "box_json = compas.json_load(file_path)\nprint(box_json)",
      "metadata": {
        "trusted": true,
        "scrolled": true
      },
      "outputs": [
        {
          "name": "stdout",
          "text": "Box(xsize=1.0, ysize=1.0, zsize=1.0, frame=Frame(point=Point(x=0.0, y=0.0, z=0.0), xaxis=Vector(x=1.0, y=0.0, z=0.0), yaxis=Vector(x=0.0, y=1.0, z=0.0)))\n",
          "output_type": "stream"
        }
      ],
      "execution_count": 9
    }
  ]
}