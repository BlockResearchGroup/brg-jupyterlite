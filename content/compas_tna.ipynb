{
 "cells": [
  {
   "cell_type": "markdown",
   "metadata": {},
   "source": [
    "# Getting Started with COMPAS TNA"
   ]
  },
  {
   "cell_type": "markdown",
   "metadata": {},
   "source": [
    "`compas_tna` is an implementation of Thrust Network Analysis (TNA) based on COMPAS. TNA is a constrained version of the force density method for form finding of compression-only force networks in equilibrium with vertical loads applied to the nodes of the network, and a fixed horizontal projection."
   ]
  },
  {
   "cell_type": "markdown",
   "metadata": {},
   "source": [
    "For more information about `compas_tna`, please refer to the Github repo and the online documentation:\n",
    "\n",
    "* [Github repo](https://github.com/blockresearchgroup/compas_tna)\n",
    "* [Documentation](https://blockresearchgroup.github.io/compas_tna/latest)"
   ]
  },
  {
   "cell_type": "markdown",
   "metadata": {},
   "source": [
    "For a more advanced implementation of TNA as a Rhino Plugin with a proper UI, please check RhinoVAULT. Getting Started instructions are available in this [Gitbook]()."
   ]
  },
  {
   "cell_type": "markdown",
   "metadata": {},
   "source": [
    "## Installation"
   ]
  },
  {
   "cell_type": "markdown",
   "metadata": {},
   "source": [
    "This notebook provides a basic example of working with `compas_tna` directly in your browser using JupyterLite.\n",
    "\n",
    "The basic JupyterLite packages are already pre-installed. However, the COMPAS packages still have to be installed \"on-the-fly\". Therefore, it is recommended that you run the cells one by one instead of all cells at once.\n",
    "\n",
    "Especially the cell below should be run first and be allowed to complete, before running any other cells. Otherwise, you will likely encounter an error related to COMPAS packages not being found..."
   ]
  },
  {
   "cell_type": "code",
   "execution_count": null,
   "metadata": {},
   "outputs": [],
   "source": [
    "%pip install -q jsonschema networkx numpy scipy pythreejs\n",
    "%pip install -q compas>=2.8 --no-deps\n",
    "%pip install -q compas_notebook>=0.10.0 --no-deps\n",
    "%pip install -q compas_fd --no-deps\n",
    "%pip install -q compas_tna>=0.6.0 --no-deps\n",
    "%pip install -q compas_skeleton>=2.0.1 --no-deps"
   ]
  },
  {
   "cell_type": "markdown",
   "metadata": {},
   "source": [
    "## The Form Diagram\n",
    "\n",
    "The first step in a TNA form finding process is to create a form diagram. Here, we will create a diagram using `compas_skeleton`."
   ]
  },
  {
   "cell_type": "code",
   "execution_count": 29,
   "metadata": {},
   "outputs": [],
   "source": [
    "from compas_skeleton.datastructures import Skeleton\n",
    "\n",
    "lines = [\n",
    "    ([-1, 0, 0], [1, 0, 0]),\n",
    "    ([1, 0, 0], [2, 1, 0]),\n",
    "    ([1, 0, 0], [2, -1, 0]),\n",
    "    ([-1, 0, 0], [-2, 1, 0]),\n",
    "    ([-1, 0, 0], [-2, -1, 0]),\n",
    "]\n",
    "\n",
    "skeleton = Skeleton(lines)\n",
    "skeleton.density = 2\n",
    "skeleton.leaf_angle = 20"
   ]
  },
  {
   "cell_type": "code",
   "execution_count": 30,
   "metadata": {},
   "outputs": [],
   "source": [
    "from compas_tna.diagrams import FormDiagram\n",
    "\n",
    "formdiagram = FormDiagram.from_mesh(skeleton.pattern)"
   ]
  },
  {
   "cell_type": "markdown",
   "metadata": {},
   "source": [
    "## Boundary Conditions"
   ]
  },
  {
   "cell_type": "code",
   "execution_count": 31,
   "metadata": {},
   "outputs": [],
   "source": [
    "from compas.itertools import flatten\n",
    "\n",
    "supports = []\n",
    "\n",
    "for node in skeleton.graph.leaves():\n",
    "    nbr = None\n",
    "    for test in skeleton.pattern.vertex_neighbors(node):\n",
    "        if skeleton.pattern.is_vertex_on_boundary(test):\n",
    "            nbr = test\n",
    "            break\n",
    "    if nbr is not None:\n",
    "        edges = skeleton.pattern.edge_loop((node, nbr))\n",
    "        vertices = list(set(list(flatten(edges))))\n",
    "        supports += vertices\n",
    "\n",
    "formdiagram.vertices_attribute(\"is_support\", True, keys=supports)\n",
    "\n",
    "formdiagram.update_boundaries()"
   ]
  },
  {
   "cell_type": "markdown",
   "metadata": {},
   "source": [
    "## The Force Diagram"
   ]
  },
  {
   "cell_type": "code",
   "execution_count": 32,
   "metadata": {},
   "outputs": [],
   "source": [
    "from compas_tna.diagrams import ForceDiagram\n",
    "\n",
    "forcediagram = ForceDiagram.from_formdiagram(formdiagram)\n",
    "forcediagram.edges_attribute(name=\"lmin\", value=0.5)"
   ]
  },
  {
   "cell_type": "markdown",
   "metadata": {},
   "source": [
    "## Horizontal Equilibrium"
   ]
  },
  {
   "cell_type": "code",
   "execution_count": 33,
   "metadata": {},
   "outputs": [],
   "source": [
    "from compas_tna.equilibrium import horizontal_nodal\n",
    "\n",
    "horizontal_nodal(form=formdiagram, force=forcediagram, kmax=500)"
   ]
  },
  {
   "cell_type": "markdown",
   "metadata": {},
   "source": [
    "## Vertical Equilibrium"
   ]
  },
  {
   "cell_type": "code",
   "execution_count": null,
   "metadata": {},
   "outputs": [],
   "source": [
    "from compas_tna.equilibrium import vertical_from_zmax\n",
    "\n",
    "vertical_from_zmax(formdiagram, zmax=0.7)"
   ]
  },
  {
   "cell_type": "markdown",
   "metadata": {},
   "source": [
    "## Visualisation"
   ]
  },
  {
   "cell_type": "code",
   "execution_count": null,
   "metadata": {},
   "outputs": [],
   "source": [
    "from compas_notebook import Viewer\n",
    "\n",
    "viewer = Viewer()\n",
    "\n",
    "viewer.scene.add(formdiagram, vertexsize=0.05)\n",
    "# viewer.scene.add(forcediagram, show_vertices=False)\n",
    "\n",
    "viewer.show()"
   ]
  }
 ],
 "metadata": {
  "kernelspec": {
   "display_name": "compas2",
   "language": "python",
   "name": "python3"
  },
  "language_info": {
   "codemirror_mode": {
    "name": "ipython",
    "version": 3
   },
   "file_extension": ".py",
   "mimetype": "text/x-python",
   "name": "python",
   "nbconvert_exporter": "python",
   "pygments_lexer": "ipython3",
   "version": "3.12.1"
  }
 },
 "nbformat": 4,
 "nbformat_minor": 2
}
