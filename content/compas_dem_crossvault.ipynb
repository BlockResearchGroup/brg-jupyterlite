{
 "cells": [
  {
   "cell_type": "code",
   "execution_count": 4,
   "metadata": {},
   "outputs": [],
   "source": [
    "%%capture\n",
    "%pip install jsonschema networkx numpy scipy pythreejs shapely\n",
    "%pip install compas>=2.8 --no-deps\n",
    "%pip install compas_notebook>=0.8.2 --no-deps\n",
    "%pip install compas_model --no-deps\n",
    "%pip install compas_dem --no-deps"
   ]
  },
  {
   "cell_type": "markdown",
   "metadata": {},
   "source": [
    "# DEM of a Cross Vault"
   ]
  },
  {
   "cell_type": "markdown",
   "metadata": {},
   "source": [
    "## Block Model"
   ]
  },
  {
   "cell_type": "code",
   "execution_count": 5,
   "metadata": {},
   "outputs": [],
   "source": [
    "import pathlib\n",
    "import compas\n",
    "from compas_dem.models import BlockModel\n",
    "\n",
    "FILE = pathlib.Path.cwd() / \"data\" / \"crossvault.json\"\n",
    "\n",
    "model: BlockModel = compas.json_load(FILE)"
   ]
  },
  {
   "cell_type": "markdown",
   "metadata": {},
   "source": [
    "## Visualisation"
   ]
  },
  {
   "cell_type": "code",
   "execution_count": 6,
   "metadata": {},
   "outputs": [
    {
     "data": {
      "application/vnd.jupyter.widget-view+json": {
       "model_id": "479aeca279c44c7eba733855c1b4e6b4",
       "version_major": 2,
       "version_minor": 0
      },
      "text/plain": [
       "VBox(children=(HBox(children=(Button(icon='search-plus', layout=Layout(height='32px', width='48px'), style=But…"
      ]
     },
     "metadata": {},
     "output_type": "display_data"
    }
   ],
   "source": [
    "from compas_notebook import Viewer\n",
    "from compas_notebook.config import Config\n",
    "\n",
    "config = Config()\n",
    "config.view.camera.position = [0, -13, 3]\n",
    "config.view.camera.target = [0, 0, 3]\n",
    "\n",
    "viewer = Viewer(config=config)\n",
    "viewer.scene.add(model)\n",
    "viewer.show()"
   ]
  }
 ],
 "metadata": {
  "kernelspec": {
   "display_name": "masonry",
   "language": "python",
   "name": "python3"
  },
  "language_info": {
   "codemirror_mode": {
    "name": "ipython",
    "version": 3
   },
   "file_extension": ".py",
   "mimetype": "text/x-python",
   "name": "python",
   "nbconvert_exporter": "python",
   "pygments_lexer": "ipython3",
   "version": "3.10.14"
  }
 },
 "nbformat": 4,
 "nbformat_minor": 2
}
