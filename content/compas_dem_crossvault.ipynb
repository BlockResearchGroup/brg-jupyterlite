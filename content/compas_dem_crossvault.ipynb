{
 "cells": [
  {
   "cell_type": "markdown",
   "metadata": {},
   "source": [
    "# DEM of a Cross Vault"
   ]
  },
  {
   "cell_type": "markdown",
   "metadata": {},
   "source": [
    "## Installation"
   ]
  },
  {
   "cell_type": "markdown",
   "metadata": {},
   "source": [
    "The basic Jupyter infrastructure packages have already been pre-installed. However, COMPAS packages still have to be downloaded and installed \"on-the-fly\". Therefore, it is recommended that you run the cells one by one, instead of all cells at once. Especially the execution of the cell below should be completed before running any other cells. Otherwise, you will encounter errors related to the COMPAS packages not being installed (yet)..."
   ]
  },
  {
   "cell_type": "code",
   "execution_count": null,
   "metadata": {},
   "outputs": [],
   "source": [
    "%pip install -q jsonschema networkx numpy scipy pythreejs shapely\n",
    "%pip install -q compas>=2.8 --no-deps\n",
    "%pip install -q compas_notebook>=0.10.0 --no-deps\n",
    "%pip install -q compas_model --no-deps\n",
    "%pip install -q compas_dem --no-deps"
   ]
  },
  {
   "cell_type": "markdown",
   "metadata": {},
   "source": [
    "## Block Model"
   ]
  },
  {
   "cell_type": "markdown",
   "metadata": {},
   "source": [
    "Load a block model from a JSON file. This model already has some of the blocks marked as supports, and the contact interfaces between the blocks identified."
   ]
  },
  {
   "cell_type": "code",
   "execution_count": 5,
   "metadata": {},
   "outputs": [],
   "source": [
    "import pathlib\n",
    "import compas\n",
    "from compas_dem.models import BlockModel\n",
    "\n",
    "FILE = pathlib.Path.cwd() / \"data\" / \"crossvault.json\"\n",
    "\n",
    "model: BlockModel = compas.json_load(FILE)"
   ]
  },
  {
   "cell_type": "markdown",
   "metadata": {},
   "source": [
    "## Visualisation"
   ]
  },
  {
   "cell_type": "markdown",
   "metadata": {},
   "source": [
    "By default, the notebook viewer shows the supports in red, the other blocks as wireframes, and the contact interfaces in light blue."
   ]
  },
  {
   "cell_type": "code",
   "execution_count": 7,
   "metadata": {},
   "outputs": [
    {
     "data": {
      "application/vnd.jupyter.widget-view+json": {
       "model_id": "8b517c0cfe6041a48de64bf07efa53e8",
       "version_major": 2,
       "version_minor": 0
      },
      "text/plain": [
       "VBox(children=(HBox(children=(Button(icon='search-plus', layout=Layout(height='32px', width='48px'), style=But…"
      ]
     },
     "metadata": {},
     "output_type": "display_data"
    }
   ],
   "source": [
    "from compas_notebook import Viewer\n",
    "from compas_notebook.config import Config\n",
    "\n",
    "config = Config()\n",
    "config.view.camera.position = [0, -13, 3]\n",
    "config.view.camera.target = [0, 0, 3]\n",
    "\n",
    "viewer = Viewer(config=config)\n",
    "viewer.scene.add(model)\n",
    "viewer.show()"
   ]
  }
 ],
 "metadata": {
  "kernelspec": {
   "display_name": "masonry",
   "language": "python",
   "name": "python3"
  },
  "language_info": {
   "codemirror_mode": {
    "name": "ipython",
    "version": 3
   },
   "file_extension": ".py",
   "mimetype": "text/x-python",
   "name": "python",
   "nbconvert_exporter": "python",
   "pygments_lexer": "ipython3",
   "version": "3.10.14"
  }
 },
 "nbformat": 4,
 "nbformat_minor": 2
}
