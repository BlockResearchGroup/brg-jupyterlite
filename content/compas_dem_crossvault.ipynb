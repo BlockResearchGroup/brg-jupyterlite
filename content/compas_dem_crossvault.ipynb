{
 "cells": [
  {
   "cell_type": "code",
   "execution_count": null,
   "metadata": {},
   "outputs": [],
   "source": [
    "%%capture\n",
    "%pip install jsonschema networkx numpy scipy pythreejs\n",
    "%pip install compas>=2.8 --no-deps\n",
    "%pip install compas_notebook>=0.8.2 --no-deps\n",
    "%pip install compas_model --no-deps\n",
    "%pip install compas_dem --no-deps"
   ]
  },
  {
   "cell_type": "markdown",
   "metadata": {},
   "source": [
    "# DEM of a Cross Vault"
   ]
  },
  {
   "cell_type": "markdown",
   "metadata": {},
   "source": [
    "## Block Data"
   ]
  },
  {
   "cell_type": "code",
   "execution_count": 1,
   "metadata": {},
   "outputs": [],
   "source": [
    "import pathlib\n",
    "\n",
    "from compas.files import OBJ\n",
    "\n",
    "FILE = pathlib.Path.cwd() / \"data\" / \"crossvault.obj\"\n",
    "\n",
    "obj = OBJ(FILE)\n",
    "obj.read()"
   ]
  },
  {
   "cell_type": "markdown",
   "metadata": {},
   "source": [
    "## Block Meshes"
   ]
  },
  {
   "cell_type": "code",
   "execution_count": 2,
   "metadata": {},
   "outputs": [],
   "source": [
    "from compas.datastructures import Mesh\n",
    "\n",
    "meshes = []\n",
    "for name in obj.objects:\n",
    "    vertices, faces = obj.objects[name]\n",
    "    mesh: Mesh = Mesh.from_vertices_and_faces(vertices, faces)\n",
    "    mesh.scale(0.025, 0.025, 0.025)\n",
    "    mesh.name = name\n",
    "    meshes.append(mesh)"
   ]
  },
  {
   "cell_type": "markdown",
   "metadata": {},
   "source": [
    "## Block Model"
   ]
  },
  {
   "cell_type": "code",
   "execution_count": 3,
   "metadata": {},
   "outputs": [],
   "source": [
    "from compas_dem.models import BlockModel\n",
    "\n",
    "model = BlockModel.from_boxes(meshes)"
   ]
  },
  {
   "cell_type": "markdown",
   "metadata": {},
   "source": [
    "## Contacts"
   ]
  },
  {
   "cell_type": "code",
   "execution_count": 4,
   "metadata": {},
   "outputs": [],
   "source": [
    "# model.compute_contacts(tolerance=1e-3, minimum_area=1e-2)"
   ]
  },
  {
   "cell_type": "markdown",
   "metadata": {},
   "source": [
    "## Supports"
   ]
  },
  {
   "cell_type": "code",
   "execution_count": 5,
   "metadata": {},
   "outputs": [],
   "source": [
    "from compas_dem.elements import BlockElement\n",
    "\n",
    "element: BlockElement\n",
    "\n",
    "for element in model.elements():\n",
    "    if model.graph.degree(element.graphnode) == 1:\n",
    "        element.is_support = True"
   ]
  },
  {
   "cell_type": "markdown",
   "metadata": {},
   "source": [
    "## Visualisation"
   ]
  },
  {
   "cell_type": "code",
   "execution_count": 7,
   "metadata": {},
   "outputs": [
    {
     "data": {
      "application/vnd.jupyter.widget-view+json": {
       "model_id": "a3ed37df12a641b797702057f23d25db",
       "version_major": 2,
       "version_minor": 0
      },
      "text/plain": [
       "VBox(children=(HBox(children=(Button(icon='search-plus', layout=Layout(height='32px', width='48px'), style=But…"
      ]
     },
     "metadata": {},
     "output_type": "display_data"
    }
   ],
   "source": [
    "from compas_notebook import Viewer\n",
    "from compas_notebook.config import Config\n",
    "\n",
    "config = Config()\n",
    "config.view.camera.position = [0, -13, 3]\n",
    "config.view.camera.target = [0, 0, 3]\n",
    "\n",
    "viewer = Viewer(config=config)\n",
    "viewer.scene.add(model)\n",
    "viewer.show()"
   ]
  }
 ],
 "metadata": {
  "kernelspec": {
   "display_name": "masonry",
   "language": "python",
   "name": "python3"
  },
  "language_info": {
   "codemirror_mode": {
    "name": "ipython",
    "version": 3
   },
   "file_extension": ".py",
   "mimetype": "text/x-python",
   "name": "python",
   "nbconvert_exporter": "python",
   "pygments_lexer": "ipython3",
   "version": "3.10.14"
  }
 },
 "nbformat": 4,
 "nbformat_minor": 2
}
