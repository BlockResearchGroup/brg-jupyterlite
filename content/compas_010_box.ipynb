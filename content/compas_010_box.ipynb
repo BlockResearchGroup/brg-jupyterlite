{
  "cells": [
    {
      "cell_type": "code",
      "execution_count": 1,
      "metadata": {
        "trusted": true
      },
      "outputs": [
        {
          "name": "stdout",
          "output_type": "stream",
          "text": [
            "Requirement already satisfied: jsonschema in /home/petras/anaconda3/envs/iass/lib/python3.12/site-packages (4.23.0)\n",
            "Requirement already satisfied: networkx in /home/petras/anaconda3/envs/iass/lib/python3.12/site-packages (3.3)\n",
            "Requirement already satisfied: numpy in /home/petras/anaconda3/envs/iass/lib/python3.12/site-packages (1.26.4)\n",
            "Requirement already satisfied: scipy in /home/petras/anaconda3/envs/iass/lib/python3.12/site-packages (1.14.0)\n",
            "Requirement already satisfied: pythreejs in /home/petras/anaconda3/envs/iass/lib/python3.12/site-packages (2.4.2)\n",
            "Requirement already satisfied: attrs>=22.2.0 in /home/petras/anaconda3/envs/iass/lib/python3.12/site-packages (from jsonschema) (23.2.0)\n",
            "Requirement already satisfied: jsonschema-specifications>=2023.03.6 in /home/petras/anaconda3/envs/iass/lib/python3.12/site-packages (from jsonschema) (2023.12.1)\n",
            "Requirement already satisfied: referencing>=0.28.4 in /home/petras/anaconda3/envs/iass/lib/python3.12/site-packages (from jsonschema) (0.35.1)\n",
            "Requirement already satisfied: rpds-py>=0.7.1 in /home/petras/anaconda3/envs/iass/lib/python3.12/site-packages (from jsonschema) (0.19.1)\n",
            "Requirement already satisfied: ipywidgets>=7.2.1 in /home/petras/anaconda3/envs/iass/lib/python3.12/site-packages (from pythreejs) (8.1.3)\n",
            "Requirement already satisfied: ipydatawidgets>=1.1.1 in /home/petras/anaconda3/envs/iass/lib/python3.12/site-packages (from pythreejs) (4.3.5)\n",
            "Requirement already satisfied: traitlets in /home/petras/anaconda3/envs/iass/lib/python3.12/site-packages (from pythreejs) (5.14.3)\n",
            "Requirement already satisfied: traittypes>=0.2.0 in /home/petras/anaconda3/envs/iass/lib/python3.12/site-packages (from ipydatawidgets>=1.1.1->pythreejs) (0.2.1)\n",
            "Requirement already satisfied: comm>=0.1.3 in /home/petras/anaconda3/envs/iass/lib/python3.12/site-packages (from ipywidgets>=7.2.1->pythreejs) (0.2.2)\n",
            "Requirement already satisfied: ipython>=6.1.0 in /home/petras/anaconda3/envs/iass/lib/python3.12/site-packages (from ipywidgets>=7.2.1->pythreejs) (8.18.0)\n",
            "Requirement already satisfied: widgetsnbextension~=4.0.11 in /home/petras/anaconda3/envs/iass/lib/python3.12/site-packages (from ipywidgets>=7.2.1->pythreejs) (4.0.11)\n",
            "Requirement already satisfied: jupyterlab-widgets~=3.0.11 in /home/petras/anaconda3/envs/iass/lib/python3.12/site-packages (from ipywidgets>=7.2.1->pythreejs) (3.0.11)\n",
            "Requirement already satisfied: decorator in /home/petras/anaconda3/envs/iass/lib/python3.12/site-packages (from ipython>=6.1.0->ipywidgets>=7.2.1->pythreejs) (5.1.1)\n",
            "Requirement already satisfied: jedi>=0.16 in /home/petras/anaconda3/envs/iass/lib/python3.12/site-packages (from ipython>=6.1.0->ipywidgets>=7.2.1->pythreejs) (0.19.1)\n",
            "Requirement already satisfied: matplotlib-inline in /home/petras/anaconda3/envs/iass/lib/python3.12/site-packages (from ipython>=6.1.0->ipywidgets>=7.2.1->pythreejs) (0.1.7)\n",
            "Requirement already satisfied: prompt-toolkit!=3.0.37,<3.1.0,>=3.0.30 in /home/petras/anaconda3/envs/iass/lib/python3.12/site-packages (from ipython>=6.1.0->ipywidgets>=7.2.1->pythreejs) (3.0.36)\n",
            "Requirement already satisfied: pygments>=2.4.0 in /home/petras/anaconda3/envs/iass/lib/python3.12/site-packages (from ipython>=6.1.0->ipywidgets>=7.2.1->pythreejs) (2.18.0)\n",
            "Requirement already satisfied: stack-data in /home/petras/anaconda3/envs/iass/lib/python3.12/site-packages (from ipython>=6.1.0->ipywidgets>=7.2.1->pythreejs) (0.6.3)\n",
            "Requirement already satisfied: pexpect>4.3 in /home/petras/anaconda3/envs/iass/lib/python3.12/site-packages (from ipython>=6.1.0->ipywidgets>=7.2.1->pythreejs) (4.9.0)\n",
            "Requirement already satisfied: parso<0.9.0,>=0.8.3 in /home/petras/anaconda3/envs/iass/lib/python3.12/site-packages (from jedi>=0.16->ipython>=6.1.0->ipywidgets>=7.2.1->pythreejs) (0.8.4)\n",
            "Requirement already satisfied: ptyprocess>=0.5 in /home/petras/anaconda3/envs/iass/lib/python3.12/site-packages (from pexpect>4.3->ipython>=6.1.0->ipywidgets>=7.2.1->pythreejs) (0.7.0)\n",
            "Requirement already satisfied: wcwidth in /home/petras/anaconda3/envs/iass/lib/python3.12/site-packages (from prompt-toolkit!=3.0.37,<3.1.0,>=3.0.30->ipython>=6.1.0->ipywidgets>=7.2.1->pythreejs) (0.2.13)\n",
            "Requirement already satisfied: executing>=1.2.0 in /home/petras/anaconda3/envs/iass/lib/python3.12/site-packages (from stack-data->ipython>=6.1.0->ipywidgets>=7.2.1->pythreejs) (2.0.1)\n",
            "Requirement already satisfied: asttokens>=2.1.0 in /home/petras/anaconda3/envs/iass/lib/python3.12/site-packages (from stack-data->ipython>=6.1.0->ipywidgets>=7.2.1->pythreejs) (2.4.1)\n",
            "Requirement already satisfied: pure-eval in /home/petras/anaconda3/envs/iass/lib/python3.12/site-packages (from stack-data->ipython>=6.1.0->ipywidgets>=7.2.1->pythreejs) (0.2.3)\n",
            "Requirement already satisfied: six>=1.12.0 in /home/petras/anaconda3/envs/iass/lib/python3.12/site-packages (from asttokens>=2.1.0->stack-data->ipython>=6.1.0->ipywidgets>=7.2.1->pythreejs) (1.16.0)\n",
            "Note: you may need to restart the kernel to use updated packages.\n",
            "Note: you may need to restart the kernel to use updated packages.\n",
            "Requirement already satisfied: compas_notebook in /home/petras/anaconda3/envs/iass/lib/python3.12/site-packages (0.6.1)\n",
            "Note: you may need to restart the kernel to use updated packages.\n"
          ]
        }
      ],
      "source": [
        "%pip install jsonschema networkx numpy scipy pythreejs\n",
        "%pip install compas>=2.0.0 --no-deps\n",
        "%pip install compas_notebook --no-deps"
      ]
    },
    {
      "cell_type": "markdown",
      "metadata": {},
      "source": [
        "# Getting Started with COMPAS"
      ]
    },
    {
      "cell_type": "code",
      "execution_count": 2,
      "metadata": {
        "trusted": true
      },
      "outputs": [
        {
          "name": "stdout",
          "output_type": "stream",
          "text": [
            "Box(xsize=1.0, ysize=1.0, zsize=1.0, frame=Frame(point=Point(x=0.0, y=0.0, z=0.0), xaxis=Vector(x=1.0, y=0.0, z=0.0), yaxis=Vector(x=0.0, y=1.0, z=0.0)))\n"
          ]
        }
      ],
      "source": [
        "from compas.geometry import Box\n",
        "\n",
        "box = Box(1, 1, 1)\n",
        "\n",
        "print(box)"
      ]
    },
    {
      "cell_type": "markdown",
      "metadata": {},
      "source": [
        "# Vizualize Geometry in Jupyter Notebook"
      ]
    },
    {
      "cell_type": "code",
      "execution_count": 3,
      "metadata": {
        "trusted": true
      },
      "outputs": [
        {
          "name": "stdout",
          "output_type": "stream",
          "text": [
            "PyThreeJS SceneObjects registered.\n",
            "PyThreeJS Model elements registered.\n"
          ]
        },
        {
          "data": {
            "application/vnd.jupyter.widget-view+json": {
              "model_id": "eca0afc008ec496caebe5c89ea8cb94a",
              "version_major": 2,
              "version_minor": 0
            },
            "text/plain": [
              "VBox(children=(HBox(children=(Button(icon='search-plus', layout=Layout(height='32px', width='48px'), style=But…"
            ]
          },
          "metadata": {},
          "output_type": "display_data"
        }
      ],
      "source": [
        "from compas_notebook.viewer import Viewer\n",
        "from compas.colors import Color\n",
        "viewer = Viewer()\n",
        "viewer.scene.add(box, color=Color.red())\n",
        "viewer.show()"
      ]
    }
  ],
  "metadata": {
    "kernelspec": {
      "display_name": "iass",
      "language": "python",
      "name": "python3"
    },
    "language_info": {
      "codemirror_mode": {
        "name": "ipython",
        "version": 3
      },
      "file_extension": ".py",
      "mimetype": "text/x-python",
      "name": "python",
      "nbconvert_exporter": "python",
      "pygments_lexer": "ipython3",
      "version": "3.12.4"
    }
  },
  "nbformat": 4,
  "nbformat_minor": 4
}
