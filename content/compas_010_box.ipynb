{
  "cells": [
    {
      "cell_type": "code",
      "execution_count": null,
      "metadata": {
        "trusted": true
      },
      "outputs": [],
      "source": [
        "%pip install jsonschema networkx numpy scipy pythreejs\n",
        "%pip install compas>=2.0.0 --no-deps\n",
        "%pip install compas_notebook --no-deps"
      ]
    },
    {
      "cell_type": "markdown",
      "metadata": {},
      "source": [
        "# Getting Started with COMPAS"
      ]
    },
    {
      "cell_type": "code",
      "execution_count": null,
      "metadata": {
        "trusted": true
      },
      "outputs": [],
      "source": [
        "from compas.geometry import Box\n",
        "\n",
        "box = Box(1, 1, 1)\n",
        "\n",
        "print(box)"
      ]
    },
    {
      "cell_type": "markdown",
      "metadata": {},
      "source": [
        "# Vizualize Geometry in Jupyter Notebook"
      ]
    },
    {
      "cell_type": "code",
      "execution_count": null,
      "metadata": {
        "trusted": true
      },
      "outputs": [],
      "source": [
        "from compas_notebook.viewer import Viewer\n",
        "from compas.colors import Color\n",
        "viewer = Viewer()\n",
        "viewer.scene.add(box, color=Color.red())\n",
        "viewer.show()"
      ]
    }
  ],
  "metadata": {
    "kernelspec": {
      "display_name": "iass",
      "language": "python",
      "name": "python3"
    },
    "language_info": {
      "codemirror_mode": {
        "name": "ipython",
        "version": 3
      },
      "file_extension": ".py",
      "mimetype": "text/x-python",
      "name": "python",
      "nbconvert_exporter": "python",
      "pygments_lexer": "ipython3",
      "version": "3.12.4"
    }
  },
  "nbformat": 4,
  "nbformat_minor": 4
}
