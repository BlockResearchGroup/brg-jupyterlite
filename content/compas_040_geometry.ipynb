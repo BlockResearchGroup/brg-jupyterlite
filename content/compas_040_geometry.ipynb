{
  "cells": [
    {
      "cell_type": "code",
      "execution_count": 12,
      "metadata": {
        "trusted": true
      },
      "outputs": [
        {
          "name": "stdout",
          "output_type": "stream",
          "text": [
            "Requirement already satisfied: jsonschema in /home/petras/anaconda3/envs/iass/lib/python3.12/site-packages (4.23.0)\n",
            "Requirement already satisfied: networkx in /home/petras/anaconda3/envs/iass/lib/python3.12/site-packages (3.3)\n",
            "Requirement already satisfied: numpy in /home/petras/anaconda3/envs/iass/lib/python3.12/site-packages (1.26.4)\n",
            "Requirement already satisfied: scipy in /home/petras/anaconda3/envs/iass/lib/python3.12/site-packages (1.14.0)\n",
            "Requirement already satisfied: pythreejs in /home/petras/anaconda3/envs/iass/lib/python3.12/site-packages (2.4.2)\n",
            "Requirement already satisfied: attrs>=22.2.0 in /home/petras/anaconda3/envs/iass/lib/python3.12/site-packages (from jsonschema) (23.2.0)\n",
            "Requirement already satisfied: jsonschema-specifications>=2023.03.6 in /home/petras/anaconda3/envs/iass/lib/python3.12/site-packages (from jsonschema) (2023.12.1)\n",
            "Requirement already satisfied: referencing>=0.28.4 in /home/petras/anaconda3/envs/iass/lib/python3.12/site-packages (from jsonschema) (0.35.1)\n",
            "Requirement already satisfied: rpds-py>=0.7.1 in /home/petras/anaconda3/envs/iass/lib/python3.12/site-packages (from jsonschema) (0.19.1)\n",
            "Requirement already satisfied: ipywidgets>=7.2.1 in /home/petras/anaconda3/envs/iass/lib/python3.12/site-packages (from pythreejs) (8.1.3)\n",
            "Requirement already satisfied: ipydatawidgets>=1.1.1 in /home/petras/anaconda3/envs/iass/lib/python3.12/site-packages (from pythreejs) (4.3.5)\n",
            "Requirement already satisfied: traitlets in /home/petras/anaconda3/envs/iass/lib/python3.12/site-packages (from pythreejs) (5.14.3)\n",
            "Requirement already satisfied: traittypes>=0.2.0 in /home/petras/anaconda3/envs/iass/lib/python3.12/site-packages (from ipydatawidgets>=1.1.1->pythreejs) (0.2.1)\n",
            "Requirement already satisfied: comm>=0.1.3 in /home/petras/anaconda3/envs/iass/lib/python3.12/site-packages (from ipywidgets>=7.2.1->pythreejs) (0.2.2)\n",
            "Requirement already satisfied: ipython>=6.1.0 in /home/petras/anaconda3/envs/iass/lib/python3.12/site-packages (from ipywidgets>=7.2.1->pythreejs) (8.18.0)\n",
            "Requirement already satisfied: widgetsnbextension~=4.0.11 in /home/petras/anaconda3/envs/iass/lib/python3.12/site-packages (from ipywidgets>=7.2.1->pythreejs) (4.0.11)\n",
            "Requirement already satisfied: jupyterlab-widgets~=3.0.11 in /home/petras/anaconda3/envs/iass/lib/python3.12/site-packages (from ipywidgets>=7.2.1->pythreejs) (3.0.11)\n",
            "Requirement already satisfied: decorator in /home/petras/anaconda3/envs/iass/lib/python3.12/site-packages (from ipython>=6.1.0->ipywidgets>=7.2.1->pythreejs) (5.1.1)\n",
            "Requirement already satisfied: jedi>=0.16 in /home/petras/anaconda3/envs/iass/lib/python3.12/site-packages (from ipython>=6.1.0->ipywidgets>=7.2.1->pythreejs) (0.19.1)\n",
            "Requirement already satisfied: matplotlib-inline in /home/petras/anaconda3/envs/iass/lib/python3.12/site-packages (from ipython>=6.1.0->ipywidgets>=7.2.1->pythreejs) (0.1.7)\n",
            "Requirement already satisfied: prompt-toolkit!=3.0.37,<3.1.0,>=3.0.30 in /home/petras/anaconda3/envs/iass/lib/python3.12/site-packages (from ipython>=6.1.0->ipywidgets>=7.2.1->pythreejs) (3.0.36)\n",
            "Requirement already satisfied: pygments>=2.4.0 in /home/petras/anaconda3/envs/iass/lib/python3.12/site-packages (from ipython>=6.1.0->ipywidgets>=7.2.1->pythreejs) (2.18.0)\n",
            "Requirement already satisfied: stack-data in /home/petras/anaconda3/envs/iass/lib/python3.12/site-packages (from ipython>=6.1.0->ipywidgets>=7.2.1->pythreejs) (0.6.3)\n",
            "Requirement already satisfied: pexpect>4.3 in /home/petras/anaconda3/envs/iass/lib/python3.12/site-packages (from ipython>=6.1.0->ipywidgets>=7.2.1->pythreejs) (4.9.0)\n",
            "Requirement already satisfied: parso<0.9.0,>=0.8.3 in /home/petras/anaconda3/envs/iass/lib/python3.12/site-packages (from jedi>=0.16->ipython>=6.1.0->ipywidgets>=7.2.1->pythreejs) (0.8.4)\n",
            "Requirement already satisfied: ptyprocess>=0.5 in /home/petras/anaconda3/envs/iass/lib/python3.12/site-packages (from pexpect>4.3->ipython>=6.1.0->ipywidgets>=7.2.1->pythreejs) (0.7.0)\n",
            "Requirement already satisfied: wcwidth in /home/petras/anaconda3/envs/iass/lib/python3.12/site-packages (from prompt-toolkit!=3.0.37,<3.1.0,>=3.0.30->ipython>=6.1.0->ipywidgets>=7.2.1->pythreejs) (0.2.13)\n",
            "Requirement already satisfied: executing>=1.2.0 in /home/petras/anaconda3/envs/iass/lib/python3.12/site-packages (from stack-data->ipython>=6.1.0->ipywidgets>=7.2.1->pythreejs) (2.0.1)\n",
            "Requirement already satisfied: asttokens>=2.1.0 in /home/petras/anaconda3/envs/iass/lib/python3.12/site-packages (from stack-data->ipython>=6.1.0->ipywidgets>=7.2.1->pythreejs) (2.4.1)\n",
            "Requirement already satisfied: pure-eval in /home/petras/anaconda3/envs/iass/lib/python3.12/site-packages (from stack-data->ipython>=6.1.0->ipywidgets>=7.2.1->pythreejs) (0.2.3)\n",
            "Requirement already satisfied: six>=1.12.0 in /home/petras/anaconda3/envs/iass/lib/python3.12/site-packages (from asttokens>=2.1.0->stack-data->ipython>=6.1.0->ipywidgets>=7.2.1->pythreejs) (1.16.0)\n",
            "Note: you may need to restart the kernel to use updated packages.\n",
            "Note: you may need to restart the kernel to use updated packages.\n",
            "Requirement already satisfied: compas_notebook in /home/petras/anaconda3/envs/iass/lib/python3.12/site-packages (0.6.1)\n",
            "Note: you may need to restart the kernel to use updated packages.\n"
          ]
        }
      ],
      "source": [
        "%pip install jsonschema networkx numpy scipy pythreejs\n",
        "%pip install compas>=2.0.0 --no-deps\n",
        "%pip install compas_notebook --no-deps"
      ]
    },
    {
      "cell_type": "markdown",
      "metadata": {},
      "source": [
        "# Compas Geometry Examples"
      ]
    },
    {
      "cell_type": "code",
      "execution_count": 13,
      "metadata": {
        "trusted": true
      },
      "outputs": [],
      "source": [
        "from compas.geometry import Box\n",
        "from compas.geometry import Frame\n",
        "from compas.geometry import NurbsCurve\n",
        "from compas.geometry import Point\n",
        "from compas.geometry import Polyline\n",
        "from compas.geometry import Transformation\n",
        "from compas.itertools import linspace\n",
        "\n",
        "points = [\n",
        "    Point(0, 0, 0),\n",
        "    Point(3, 3, 0),\n",
        "    Point(6, -6, 3),\n",
        "    Point(9, 0, 0),\n",
        "]\n",
        "curve: NurbsCurve = NurbsCurve.from_points(points)\n",
        "polyline: Polyline = Polyline(points)\n",
        "\n",
        "frames: list[Frame] = []\n",
        "for t in linspace(curve.domain[0], curve.domain[1], 100):\n",
        "    frames.append(curve.frame_at(t))\n",
        "\n",
        "box = Box(0.8, 0.5, 0.3)\n",
        "\n",
        "# =============================================================================\n",
        "# Viz\n",
        "# =============================================================================\n",
        "\n",
        "# viewer = Viewer()\n",
        "# viewer.renderer.camera.target = [0, 0, 3]\n",
        "# viewer.renderer.camera.position = [-5, 0, 7]\n",
        "\n",
        "# viewer.scene.add(curve)\n",
        "# viewer.scene.add(Polyline(curve.points), show_points=True)\n",
        "\n",
        "# for frame in frames[::2]:\n",
        "#     viewer.scene.add(frame)\n",
        "\n",
        "# boxobj = viewer.scene.add(box)\n",
        "\n",
        "\n",
        "# @viewer.on(interval=100, frames=len(frames))\n",
        "# def slide(f):\n",
        "#     frame = frames[f]\n",
        "#     transformation = Transformation.from_frame_to_frame(box.frame, frame)\n",
        "#     box.transform(transformation)\n",
        "#     boxobj.init()  # this is a temp hack\n",
        "#     boxobj.update()\n",
        "\n",
        "\n",
        "# viewer.show()"
      ]
    },
    {
      "cell_type": "markdown",
      "metadata": {},
      "source": [
        "# Vizualization"
      ]
    },
    {
      "cell_type": "code",
      "execution_count": 14,
      "metadata": {},
      "outputs": [
        {
          "data": {
            "application/vnd.jupyter.widget-view+json": {
              "model_id": "74a75083bc1f497fa459b61f70890379",
              "version_major": 2,
              "version_minor": 0
            },
            "text/plain": [
              "VBox(children=(HBox(children=(Button(icon='search-plus', layout=Layout(height='32px', width='48px'), style=But…"
            ]
          },
          "metadata": {},
          "output_type": "display_data"
        }
      ],
      "source": [
        "# scene is missing curve and frame\n",
        "\n",
        "from compas_notebook.viewer import Viewer\n",
        "from compas.colors import Color\n",
        "viewer = Viewer()\n",
        "# viewer.scene.add(curve, color=Color.red())\n",
        "viewer.scene.add(polyline, color=Color.black(), show_points=True)\n",
        "# for frame in frames[::2]:\n",
        "#     viewer.scene.add(frame, color=Color.red())\n",
        "viewer.scene.add(box, color=Color.red())\n",
        "viewer.show()"
      ]
    }
  ],
  "metadata": {
    "kernelspec": {
      "display_name": "iass",
      "language": "python",
      "name": "python3"
    },
    "language_info": {
      "codemirror_mode": {
        "name": "ipython",
        "version": 3
      },
      "file_extension": ".py",
      "mimetype": "text/x-python",
      "name": "python",
      "nbconvert_exporter": "python",
      "pygments_lexer": "ipython3",
      "version": "3.12.4"
    }
  },
  "nbformat": 4,
  "nbformat_minor": 4
}
