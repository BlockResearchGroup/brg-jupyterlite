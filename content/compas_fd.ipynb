{
 "cells": [
  {
   "cell_type": "code",
   "execution_count": 43,
   "metadata": {},
   "outputs": [
    {
     "name": "stdout",
     "output_type": "stream",
     "text": [
      "Requirement already satisfied: jsonschema in /Users/vanmelet/opt/miniconda3/envs/compas2/lib/python3.12/site-packages (4.22.0)\n",
      "Requirement already satisfied: networkx in /Users/vanmelet/opt/miniconda3/envs/compas2/lib/python3.12/site-packages (3.3)\n",
      "Requirement already satisfied: numpy in /Users/vanmelet/opt/miniconda3/envs/compas2/lib/python3.12/site-packages (1.26.4)\n",
      "Requirement already satisfied: scipy in /Users/vanmelet/opt/miniconda3/envs/compas2/lib/python3.12/site-packages (1.14.0)\n",
      "Requirement already satisfied: pythreejs in /Users/vanmelet/opt/miniconda3/envs/compas2/lib/python3.12/site-packages (2.4.2)\n",
      "Requirement already satisfied: attrs>=22.2.0 in /Users/vanmelet/opt/miniconda3/envs/compas2/lib/python3.12/site-packages (from jsonschema) (23.2.0)\n",
      "Requirement already satisfied: jsonschema-specifications>=2023.03.6 in /Users/vanmelet/opt/miniconda3/envs/compas2/lib/python3.12/site-packages (from jsonschema) (2023.12.1)\n",
      "Requirement already satisfied: referencing>=0.28.4 in /Users/vanmelet/opt/miniconda3/envs/compas2/lib/python3.12/site-packages (from jsonschema) (0.35.1)\n",
      "Requirement already satisfied: rpds-py>=0.7.1 in /Users/vanmelet/opt/miniconda3/envs/compas2/lib/python3.12/site-packages (from jsonschema) (0.18.1)\n",
      "Requirement already satisfied: ipywidgets>=7.2.1 in /Users/vanmelet/opt/miniconda3/envs/compas2/lib/python3.12/site-packages (from pythreejs) (8.1.2)\n",
      "Requirement already satisfied: ipydatawidgets>=1.1.1 in /Users/vanmelet/opt/miniconda3/envs/compas2/lib/python3.12/site-packages (from pythreejs) (4.3.5)\n",
      "Requirement already satisfied: traitlets in /Users/vanmelet/opt/miniconda3/envs/compas2/lib/python3.12/site-packages (from pythreejs) (5.14.2)\n",
      "Requirement already satisfied: traittypes>=0.2.0 in /Users/vanmelet/opt/miniconda3/envs/compas2/lib/python3.12/site-packages (from ipydatawidgets>=1.1.1->pythreejs) (0.2.1)\n",
      "Requirement already satisfied: comm>=0.1.3 in /Users/vanmelet/opt/miniconda3/envs/compas2/lib/python3.12/site-packages (from ipywidgets>=7.2.1->pythreejs) (0.2.2)\n",
      "Requirement already satisfied: ipython>=6.1.0 in /Users/vanmelet/opt/miniconda3/envs/compas2/lib/python3.12/site-packages (from ipywidgets>=7.2.1->pythreejs) (8.18.0)\n",
      "Requirement already satisfied: widgetsnbextension~=4.0.10 in /Users/vanmelet/opt/miniconda3/envs/compas2/lib/python3.12/site-packages (from ipywidgets>=7.2.1->pythreejs) (4.0.10)\n",
      "Requirement already satisfied: jupyterlab-widgets~=3.0.10 in /Users/vanmelet/opt/miniconda3/envs/compas2/lib/python3.12/site-packages (from ipywidgets>=7.2.1->pythreejs) (3.0.10)\n",
      "Requirement already satisfied: decorator in /Users/vanmelet/opt/miniconda3/envs/compas2/lib/python3.12/site-packages (from ipython>=6.1.0->ipywidgets>=7.2.1->pythreejs) (5.1.1)\n",
      "Requirement already satisfied: jedi>=0.16 in /Users/vanmelet/opt/miniconda3/envs/compas2/lib/python3.12/site-packages (from ipython>=6.1.0->ipywidgets>=7.2.1->pythreejs) (0.19.1)\n",
      "Requirement already satisfied: matplotlib-inline in /Users/vanmelet/opt/miniconda3/envs/compas2/lib/python3.12/site-packages (from ipython>=6.1.0->ipywidgets>=7.2.1->pythreejs) (0.1.7)\n",
      "Requirement already satisfied: prompt-toolkit!=3.0.37,<3.1.0,>=3.0.30 in /Users/vanmelet/opt/miniconda3/envs/compas2/lib/python3.12/site-packages (from ipython>=6.1.0->ipywidgets>=7.2.1->pythreejs) (3.0.36)\n",
      "Requirement already satisfied: pygments>=2.4.0 in /Users/vanmelet/opt/miniconda3/envs/compas2/lib/python3.12/site-packages (from ipython>=6.1.0->ipywidgets>=7.2.1->pythreejs) (2.17.2)\n",
      "Requirement already satisfied: stack-data in /Users/vanmelet/opt/miniconda3/envs/compas2/lib/python3.12/site-packages (from ipython>=6.1.0->ipywidgets>=7.2.1->pythreejs) (0.6.3)\n",
      "Requirement already satisfied: pexpect>4.3 in /Users/vanmelet/opt/miniconda3/envs/compas2/lib/python3.12/site-packages (from ipython>=6.1.0->ipywidgets>=7.2.1->pythreejs) (4.9.0)\n",
      "Requirement already satisfied: parso<0.9.0,>=0.8.3 in /Users/vanmelet/opt/miniconda3/envs/compas2/lib/python3.12/site-packages (from jedi>=0.16->ipython>=6.1.0->ipywidgets>=7.2.1->pythreejs) (0.8.4)\n",
      "Requirement already satisfied: ptyprocess>=0.5 in /Users/vanmelet/opt/miniconda3/envs/compas2/lib/python3.12/site-packages (from pexpect>4.3->ipython>=6.1.0->ipywidgets>=7.2.1->pythreejs) (0.7.0)\n",
      "Requirement already satisfied: wcwidth in /Users/vanmelet/opt/miniconda3/envs/compas2/lib/python3.12/site-packages (from prompt-toolkit!=3.0.37,<3.1.0,>=3.0.30->ipython>=6.1.0->ipywidgets>=7.2.1->pythreejs) (0.2.13)\n",
      "Requirement already satisfied: executing>=1.2.0 in /Users/vanmelet/opt/miniconda3/envs/compas2/lib/python3.12/site-packages (from stack-data->ipython>=6.1.0->ipywidgets>=7.2.1->pythreejs) (2.0.1)\n",
      "Requirement already satisfied: asttokens>=2.1.0 in /Users/vanmelet/opt/miniconda3/envs/compas2/lib/python3.12/site-packages (from stack-data->ipython>=6.1.0->ipywidgets>=7.2.1->pythreejs) (2.4.1)\n",
      "Requirement already satisfied: pure-eval in /Users/vanmelet/opt/miniconda3/envs/compas2/lib/python3.12/site-packages (from stack-data->ipython>=6.1.0->ipywidgets>=7.2.1->pythreejs) (0.2.2)\n",
      "Requirement already satisfied: six>=1.12.0 in /Users/vanmelet/opt/miniconda3/envs/compas2/lib/python3.12/site-packages (from asttokens>=2.1.0->stack-data->ipython>=6.1.0->ipywidgets>=7.2.1->pythreejs) (1.16.0)\n",
      "Note: you may need to restart the kernel to use updated packages.\n",
      "zsh:1: 2.8 not found\n",
      "Note: you may need to restart the kernel to use updated packages.\n",
      "Requirement already satisfied: compas_notebook in /Users/vanmelet/opt/miniconda3/envs/compas2/lib/python3.12/site-packages (0.5.0)\n",
      "Note: you may need to restart the kernel to use updated packages.\n",
      "zsh:1: 0.5.0 not found\n",
      "Note: you may need to restart the kernel to use updated packages.\n"
     ]
    }
   ],
   "source": [
    "%pip install jsonschema networkx numpy scipy pythreejs\n",
    "%pip install compas>=2.8 --no-deps\n",
    "%pip install compas_notebook --no-deps\n",
    "%pip install compas_fd>=0.5.0 --no-deps"
   ]
  },
  {
   "cell_type": "markdown",
   "metadata": {},
   "source": [
    "# Getting Started with COMPAS FD"
   ]
  },
  {
   "cell_type": "markdown",
   "metadata": {},
   "source": [
    "Create a mesh from a grid of vertices and faces in the XY plane."
   ]
  },
  {
   "cell_type": "code",
   "execution_count": 44,
   "metadata": {},
   "outputs": [],
   "source": [
    "from compas.datastructures import Mesh\n",
    "\n",
    "mesh = Mesh.from_meshgrid(dx=10, nx=10)"
   ]
  },
  {
   "cell_type": "markdown",
   "metadata": {},
   "source": [
    "Move two opposite mesh corners out of the XY plane."
   ]
  },
  {
   "cell_type": "code",
   "execution_count": 45,
   "metadata": {},
   "outputs": [],
   "source": [
    "vertex = list(mesh.vertices_where(x=0, y=0))[0]\n",
    "mesh.vertex_attribute(vertex, name='z', value=7)\n",
    "\n",
    "vertex = list(mesh.vertices_where(x=10, y=10))[0]\n",
    "mesh.vertex_attribute(vertex, name='z', value=7)"
   ]
  },
  {
   "cell_type": "markdown",
   "metadata": {},
   "source": [
    "Extract the vertex coordinates."
   ]
  },
  {
   "cell_type": "code",
   "execution_count": 46,
   "metadata": {},
   "outputs": [],
   "source": [
    "vertices = mesh.vertices_attributes(\"xyz\")"
   ]
  },
  {
   "cell_type": "markdown",
   "metadata": {},
   "source": [
    "Identify the corners as fixed points, which will be able to provide reaction forces."
   ]
  },
  {
   "cell_type": "code",
   "execution_count": 47,
   "metadata": {},
   "outputs": [],
   "source": [
    "fixed = list(mesh.vertices_where(vertex_degree=2))"
   ]
  },
  {
   "cell_type": "markdown",
   "metadata": {},
   "source": [
    "Create a list of \"zero\" loads."
   ]
  },
  {
   "cell_type": "code",
   "execution_count": 48,
   "metadata": {},
   "outputs": [],
   "source": [
    "loads = [[0, 0, 0] for _ in range(len(vertices))]"
   ]
  },
  {
   "cell_type": "markdown",
   "metadata": {},
   "source": [
    "Create a list of edges, with each edge defined as a pair of vertex indices."
   ]
  },
  {
   "cell_type": "code",
   "execution_count": 49,
   "metadata": {},
   "outputs": [],
   "source": [
    "edges = list(mesh.edges())"
   ]
  },
  {
   "cell_type": "markdown",
   "metadata": {},
   "source": [
    "Assign force densities to the edges.\n",
    "Use `q=10.0` for edges on the boundary, and `q=1.0` everywhere else."
   ]
  },
  {
   "cell_type": "code",
   "execution_count": 50,
   "metadata": {},
   "outputs": [],
   "source": [
    "q = []\n",
    "for edge in edges:\n",
    "    if mesh.is_edge_on_boundary(edge):\n",
    "        q.append(10)\n",
    "    else:\n",
    "        q.append(1.0)"
   ]
  },
  {
   "cell_type": "markdown",
   "metadata": {},
   "source": [
    "Compute equilibrium with the base force density solver of `compas_fd`.\n",
    "The result is stored in a `Result` data class."
   ]
  },
  {
   "cell_type": "code",
   "execution_count": 51,
   "metadata": {},
   "outputs": [],
   "source": [
    "from compas_fd.solvers import fd_numpy\n",
    "\n",
    "result = fd_numpy(\n",
    "    vertices=vertices,\n",
    "    fixed=fixed,\n",
    "    edges=edges,\n",
    "    forcedensities=q,\n",
    "    loads=loads,\n",
    ")"
   ]
  },
  {
   "cell_type": "markdown",
   "metadata": {},
   "source": [
    "Update the original mesh geometry using the vertex coordinates stored in the result."
   ]
  },
  {
   "cell_type": "code",
   "execution_count": 52,
   "metadata": {},
   "outputs": [],
   "source": [
    "for vertex, attr in mesh.vertices(data=True):\n",
    "    attr[\"x\"] = result.vertices[vertex, 0]\n",
    "    attr[\"y\"] = result.vertices[vertex, 1]\n",
    "    attr[\"z\"] = result.vertices[vertex, 2]"
   ]
  },
  {
   "cell_type": "markdown",
   "metadata": {},
   "source": [
    "Visualize the equilibrium geometry and mark the fixed nodes."
   ]
  },
  {
   "cell_type": "code",
   "execution_count": 59,
   "metadata": {},
   "outputs": [
    {
     "data": {
      "application/vnd.jupyter.widget-view+json": {
       "model_id": "99feb14271324048884600a33ef5ad0a",
       "version_major": 2,
       "version_minor": 0
      },
      "text/plain": [
       "VBox(children=(HBox(children=(Button(icon='search-plus', layout=Layout(height='32px', width='48px'), style=But…"
      ]
     },
     "metadata": {},
     "output_type": "display_data"
    }
   ],
   "source": [
    "from compas.colors import Color\n",
    "from compas_notebook import Viewer\n",
    "from compas_notebook.config import Config\n",
    "\n",
    "config = Config()\n",
    "config.view.camera.position = [15, -10, 3]\n",
    "config.view.camera.target = [5, 5, 3]\n",
    "config.view.camera.fov = 35\n",
    "\n",
    "viewer = Viewer(config=config)\n",
    "\n",
    "viewer.scene.add(mesh, color=Color.from_hex('#cccccc'), show_edges=True)\n",
    "\n",
    "for vertex in fixed:\n",
    "    viewer.scene.add(mesh.vertex_point(vertex), color=Color.red())\n",
    "\n",
    "viewer.show()\n",
    "\n",
    "# this is a temp hack until notebook is fixed\n",
    "viewer.camera3.position = [15, -10, 3]\n",
    "viewer.camera3.lookAt([5, 5, 3])\n",
    "viewer.controls3.target = [5, 5, 3]\n"
   ]
  }
 ],
 "metadata": {
  "kernelspec": {
   "display_name": "compas2",
   "language": "python",
   "name": "python3"
  },
  "language_info": {
   "codemirror_mode": {
    "name": "ipython",
    "version": 3
   },
   "file_extension": ".py",
   "mimetype": "text/x-python",
   "name": "python",
   "nbconvert_exporter": "python",
   "pygments_lexer": "ipython3",
   "version": "3.12.1"
  }
 },
 "nbformat": 4,
 "nbformat_minor": 2
}
