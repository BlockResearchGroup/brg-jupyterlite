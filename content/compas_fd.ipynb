{
 "cells": [
  {
   "cell_type": "code",
   "execution_count": null,
   "metadata": {},
   "outputs": [],
   "source": [
    "%pip install jsonschema networkx numpy scipy pythreejs\n",
    "%pip install compas>=2.0.0b4 --no-deps\n",
    "%pip install compas_notebook --no-deps\n",
    "%pip install compas_fd --no-deps"
   ]
  },
  {
   "cell_type": "markdown",
   "metadata": {},
   "source": [
    "# Getting Started with COMPAS FD"
   ]
  },
  {
   "cell_type": "code",
   "execution_count": null,
   "metadata": {},
   "outputs": [],
   "source": [
    "from compas.colors import Color\n",
    "from compas.datastructures import Mesh\n",
    "from compas_fd.solvers import fd_numpy"
   ]
  },
  {
   "cell_type": "code",
   "execution_count": null,
   "metadata": {},
   "outputs": [],
   "source": [
    "mesh = Mesh.from_meshgrid(dx=10, nx=10)"
   ]
  },
  {
   "cell_type": "code",
   "execution_count": null,
   "metadata": {},
   "outputs": [],
   "source": [
    "vertices = mesh.vertices_attributes(\"xyz\")\n",
    "fixed = list(mesh.vertices_where(vertex_degree=2))\n",
    "edges = list(mesh.edges())\n",
    "loads = [[0, 0, 0] for _ in range(len(vertices))]"
   ]
  },
  {
   "cell_type": "code",
   "execution_count": null,
   "metadata": {},
   "outputs": [],
   "source": [
    "q = []\n",
    "for edge in edges:\n",
    "    if mesh.is_edge_on_boundary(edge):\n",
    "        q.append(10)\n",
    "    else:\n",
    "        q.append(1.0)"
   ]
  },
  {
   "cell_type": "code",
   "execution_count": null,
   "metadata": {},
   "outputs": [],
   "source": [
    "result = fd_numpy(\n",
    "    vertices=vertices,\n",
    "    fixed=fixed,\n",
    "    edges=edges,\n",
    "    forcedensities=q,\n",
    "    loads=loads,\n",
    ")"
   ]
  },
  {
   "cell_type": "code",
   "execution_count": null,
   "metadata": {},
   "outputs": [],
   "source": [
    "for vertex, attr in mesh.vertices(data=True):\n",
    "    attr[\"x\"] = result.vertices[vertex, 0]\n",
    "    attr[\"y\"] = result.vertices[vertex, 1]\n",
    "    attr[\"z\"] = result.vertices[vertex, 2]"
   ]
  },
  {
   "cell_type": "code",
   "execution_count": null,
   "metadata": {},
   "outputs": [],
   "source": [
    "# viewer = App()\n",
    "# viewer.view.camera.position = [5, -5, 20]\n",
    "# viewer.view.camera.look_at([5, 5, 0])\n",
    "\n",
    "# viewer.add(mesh)\n",
    "\n",
    "# for vertex in fixed:\n",
    "#     point = Point(*mesh.vertex_coordinates(vertex))\n",
    "#     residual = Vector(*result.residuals[vertex])\n",
    "#     ball = Sphere(radius=0.1, point=point)\n",
    "\n",
    "#     viewer.add(ball.to_brep(), facecolor=Color.red())\n",
    "#     viewer.add(\n",
    "#         Line(point, point - residual * 0.1),\n",
    "#         linecolor=Color.green().darkened(50),\n",
    "#         linewidth=3,\n",
    "#     )\n",
    "\n",
    "# viewer.run()"
   ]
  }
 ],
 "metadata": {
  "language_info": {
   "name": "python"
  }
 },
 "nbformat": 4,
 "nbformat_minor": 2
}
