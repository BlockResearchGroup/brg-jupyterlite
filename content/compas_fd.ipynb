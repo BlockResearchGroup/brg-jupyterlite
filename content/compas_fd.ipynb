{
  "cells": [
    {
      "cell_type": "markdown",
      "metadata": {},
      "source": [
        "# Getting Started with COMPAS FD"
      ]
    },
    {
      "cell_type": "markdown",
      "metadata": {},
      "source": [
        "`compas_fd` is a package for computing equilibrium shapes of tensile surface structures consisting of axial force members connected by articulated nodes, using the force density method."
      ]
    },
    {
      "cell_type": "markdown",
      "metadata": {},
      "source": [
        "This notebook contains a very simple, step-by-step procedure for calculating the the shape of a hypar. The notebook can be run directly in the browser without any installation requirements."
      ]
    },
    {
      "cell_type": "markdown",
      "metadata": {},
      "source": [
        "For more information about `compas_fd`, please refer to the Github repo and the package documentation:\n",
        "\n",
        "* [github repo](https://github.com/blockresearchgroup/compas_fd)\n",
        "* [online docs](https://blockresearchgroup.github.io/compas_fd/latest/)"
      ]
    },
    {
      "cell_type": "markdown",
      "metadata": {},
      "source": [
        "## Installation"
      ]
    },
    {
      "cell_type": "markdown",
      "metadata": {},
      "source": [
        "The basic Jupyter infrastructure packages have already been pre-installed. However, COMPAS packages still have to be downloaded and installed \"on-the-fly\". Therefore, it is recommended that you run the cells one by one, instead of all cells at once. Especially the execution of the cell below should be completed before running any other cells. Otherwise, you will encounter errors related to the COMPAS packages not being installed (yet)..."
      ]
    },
    {
      "cell_type": "code",
      "execution_count": 1,
      "metadata": {},
      "outputs": [
        {
          "name": "stdout",
          "output_type": "stream",
          "text": [
            "Note: you may need to restart the kernel to use updated packages.\n",
            "zsh:1: 2.8 not found\n",
            "Note: you may need to restart the kernel to use updated packages.\n",
            "Note: you may need to restart the kernel to use updated packages.\n",
            "zsh:1: 0.5 not found\n",
            "Note: you may need to restart the kernel to use updated packages.\n"
          ]
        }
      ],
      "source": [
        "%pip install -q jsonschema networkx numpy scipy pythreejs\n",
        "%pip install -q compas>=2.8 --no-deps\n",
        "%pip install -q compas_notebook>=0.10.0 --no-deps\n",
        "%pip install -q compas_fd>=0.5 --no-deps"
      ]
    },
    {
      "cell_type": "markdown",
      "metadata": {},
      "source": [
        "## Base Mesh"
      ]
    },
    {
      "cell_type": "markdown",
      "metadata": {},
      "source": [
        "Create a mesh from a grid of vertices and faces in the XY plane."
      ]
    },
    {
      "cell_type": "code",
      "execution_count": 2,
      "metadata": {
        "trusted": true
      },
      "outputs": [],
      "source": [
        "from compas.datastructures import Mesh\n",
        "\n",
        "mesh = Mesh.from_meshgrid(dx=10, nx=10)"
      ]
    },
    {
      "cell_type": "markdown",
      "metadata": {},
      "source": [
        "Move two opposite mesh corners out of the XY plane."
      ]
    },
    {
      "cell_type": "code",
      "execution_count": 3,
      "metadata": {
        "trusted": true
      },
      "outputs": [],
      "source": [
        "vertex = list(mesh.vertices_where(x=0, y=0))[0]\n",
        "mesh.vertex_attribute(vertex, name='z', value=7)\n",
        "\n",
        "vertex = list(mesh.vertices_where(x=10, y=10))[0]\n",
        "mesh.vertex_attribute(vertex, name='z', value=7)"
      ]
    },
    {
      "cell_type": "markdown",
      "metadata": {},
      "source": [
        "## Numerical Data"
      ]
    },
    {
      "cell_type": "markdown",
      "metadata": {},
      "source": [
        "Extract the vertex coordinates."
      ]
    },
    {
      "cell_type": "code",
      "execution_count": 4,
      "metadata": {
        "trusted": true
      },
      "outputs": [],
      "source": [
        "vertices = mesh.vertices_attributes(\"xyz\")"
      ]
    },
    {
      "cell_type": "markdown",
      "metadata": {},
      "source": [
        "Identify the corners as fixed points, which will be able to provide reaction forces."
      ]
    },
    {
      "cell_type": "code",
      "execution_count": 5,
      "metadata": {
        "trusted": true
      },
      "outputs": [],
      "source": [
        "fixed = list(mesh.vertices_where(vertex_degree=2))"
      ]
    },
    {
      "cell_type": "markdown",
      "metadata": {},
      "source": [
        "Create a list of \"zero\" loads."
      ]
    },
    {
      "cell_type": "code",
      "execution_count": 6,
      "metadata": {
        "trusted": true
      },
      "outputs": [],
      "source": [
        "loads = [[0, 0, 0] for _ in range(len(vertices))]"
      ]
    },
    {
      "cell_type": "markdown",
      "metadata": {},
      "source": [
        "Create a list of edges, with each edge defined as a pair of vertex indices."
      ]
    },
    {
      "cell_type": "code",
      "execution_count": 7,
      "metadata": {
        "trusted": true
      },
      "outputs": [],
      "source": [
        "edges = list(mesh.edges())"
      ]
    },
    {
      "cell_type": "markdown",
      "metadata": {},
      "source": [
        "Assign force densities to the edges.\n",
        "Use `q=10.0` for edges on the boundary, and `q=1.0` everywhere else."
      ]
    },
    {
      "cell_type": "code",
      "execution_count": 8,
      "metadata": {
        "trusted": true
      },
      "outputs": [],
      "source": [
        "q = []\n",
        "for edge in edges:\n",
        "    if mesh.is_edge_on_boundary(edge):\n",
        "        q.append(10)\n",
        "    else:\n",
        "        q.append(1.0)"
      ]
    },
    {
      "cell_type": "markdown",
      "metadata": {},
      "source": [
        "## Equilibrium"
      ]
    },
    {
      "cell_type": "markdown",
      "metadata": {},
      "source": [
        "Compute equilibrium with the base force density solver of `compas_fd`.\n",
        "The result is stored in a `Result` data class."
      ]
    },
    {
      "cell_type": "code",
      "execution_count": 9,
      "metadata": {
        "trusted": true
      },
      "outputs": [],
      "source": [
        "from compas_fd.solvers import fd_numpy\n",
        "\n",
        "result = fd_numpy(\n",
        "    vertices=vertices,\n",
        "    fixed=fixed,\n",
        "    edges=edges,\n",
        "    forcedensities=q,\n",
        "    loads=loads,\n",
        ")"
      ]
    },
    {
      "cell_type": "markdown",
      "metadata": {},
      "source": [
        "Update the original mesh geometry using the vertex coordinates stored in the result."
      ]
    },
    {
      "cell_type": "code",
      "execution_count": 10,
      "metadata": {
        "trusted": true
      },
      "outputs": [],
      "source": [
        "for vertex, attr in mesh.vertices(data=True):\n",
        "    attr[\"x\"] = result.vertices[vertex, 0]\n",
        "    attr[\"y\"] = result.vertices[vertex, 1]\n",
        "    attr[\"z\"] = result.vertices[vertex, 2]"
      ]
    },
    {
      "cell_type": "markdown",
      "metadata": {},
      "source": [
        "## Visualisation"
      ]
    },
    {
      "cell_type": "markdown",
      "metadata": {},
      "source": [
        "Visualize the equilibrium geometry and mark the fixed nodes."
      ]
    },
    {
      "cell_type": "code",
      "execution_count": 11,
      "metadata": {
        "trusted": true
      },
      "outputs": [
        {
          "data": {
            "application/vnd.jupyter.widget-view+json": {
              "model_id": "296d402ae02345768cc3c0f976424361",
              "version_major": 2,
              "version_minor": 0
            },
            "text/plain": [
              "VBox(children=(HBox(children=(Button(icon='search-plus', layout=Layout(height='32px', width='48px'), style=But…"
            ]
          },
          "metadata": {},
          "output_type": "display_data"
        }
      ],
      "source": [
        "from compas.colors import Color\n",
        "from compas_notebook import Viewer\n",
        "from compas_notebook.config import Config\n",
        "\n",
        "config = Config()\n",
        "config.view.camera.position = [15, -10, 3]\n",
        "config.view.camera.target = [5, 5, 3]\n",
        "config.view.camera.fov = 35\n",
        "\n",
        "viewer = Viewer(config=config)\n",
        "\n",
        "viewer.scene.add(mesh, color=Color.from_hex('#cccccc'), show_edges=True)\n",
        "\n",
        "for vertex in fixed:\n",
        "    viewer.scene.add(mesh.vertex_point(vertex), color=Color.red())\n",
        "\n",
        "viewer.show()\n",
        "\n",
        "# this is a temp hack until notebook is fixed\n",
        "viewer.camera3.position = [15, -10, 3]\n",
        "viewer.camera3.lookAt([5, 5, 3])\n",
        "viewer.controls3.target = [5, 5, 3]"
      ]
    }
  ],
  "metadata": {
    "kernelspec": {
      "display_name": "compas2",
      "language": "python",
      "name": "python3"
    },
    "language_info": {
      "codemirror_mode": {
        "name": "ipython",
        "version": 3
      },
      "file_extension": ".py",
      "mimetype": "text/x-python",
      "name": "python",
      "nbconvert_exporter": "python",
      "pygments_lexer": "ipython3",
      "version": "3.12.1"
    }
  },
  "nbformat": 4,
  "nbformat_minor": 4
}
