{
  "cells": [
    {
      "cell_type": "code",
      "execution_count": 1,
      "metadata": {
        "trusted": true
      },
      "outputs": [
        {
          "name": "stdout",
          "output_type": "stream",
          "text": [
            "Requirement already satisfied: jsonschema in /home/petras/anaconda3/envs/iass/lib/python3.12/site-packages (4.23.0)\n",
            "Requirement already satisfied: networkx in /home/petras/anaconda3/envs/iass/lib/python3.12/site-packages (3.3)\n",
            "Requirement already satisfied: numpy in /home/petras/anaconda3/envs/iass/lib/python3.12/site-packages (1.26.4)\n",
            "Requirement already satisfied: scipy in /home/petras/anaconda3/envs/iass/lib/python3.12/site-packages (1.14.0)\n",
            "Requirement already satisfied: attrs>=22.2.0 in /home/petras/anaconda3/envs/iass/lib/python3.12/site-packages (from jsonschema) (23.2.0)\n",
            "Requirement already satisfied: jsonschema-specifications>=2023.03.6 in /home/petras/anaconda3/envs/iass/lib/python3.12/site-packages (from jsonschema) (2023.12.1)\n",
            "Requirement already satisfied: referencing>=0.28.4 in /home/petras/anaconda3/envs/iass/lib/python3.12/site-packages (from jsonschema) (0.35.1)\n",
            "Requirement already satisfied: rpds-py>=0.7.1 in /home/petras/anaconda3/envs/iass/lib/python3.12/site-packages (from jsonschema) (0.19.1)\n",
            "Note: you may need to restart the kernel to use updated packages.\n",
            "Note: you may need to restart the kernel to use updated packages.\n"
          ]
        }
      ],
      "source": [
        "%pip install jsonschema networkx numpy scipy\n",
        "%pip install compas>=2.0.0 --no-deps"
      ]
    },
    {
      "cell_type": "markdown",
      "metadata": {},
      "source": [
        "# Getting Started with COMPAS"
      ]
    },
    {
      "cell_type": "code",
      "execution_count": 2,
      "metadata": {
        "trusted": true
      },
      "outputs": [],
      "source": [
        "import compas\n",
        "from compas.geometry import Box\n",
        "import pathlib\n",
        "\n",
        "box = Box(1, 1, 1)"
      ]
    },
    {
      "cell_type": "markdown",
      "metadata": {},
      "source": [
        "# Convert Box to Mesh"
      ]
    },
    {
      "cell_type": "code",
      "execution_count": 3,
      "metadata": {},
      "outputs": [],
      "source": [
        "mesh = box.to_mesh().subdivided(k=4)"
      ]
    },
    {
      "cell_type": "markdown",
      "metadata": {},
      "source": [
        "# Serialize Compas to JSON"
      ]
    },
    {
      "cell_type": "code",
      "execution_count": 4,
      "metadata": {
        "scrolled": true,
        "trusted": true
      },
      "outputs": [],
      "source": [
        "# Define the path to the data folder and the JSON file\n",
        "data_folder = pathlib.Path.cwd() / \"data\"\n",
        "if not data_folder.exists():\n",
        "    data_folder.mkdir(parents=True)\n",
        "\n",
        "# Serialize the geometry to JSON and save it to the filepath\n",
        "file_path = data_folder / \"mesh.json\"\n",
        "compas.json_dump(mesh, file_path)"
      ]
    },
    {
      "cell_type": "markdown",
      "metadata": {},
      "source": [
        "# Deserialize JSON to Compas"
      ]
    },
    {
      "cell_type": "code",
      "execution_count": 5,
      "metadata": {
        "scrolled": true,
        "trusted": true
      },
      "outputs": [
        {
          "name": "stdout",
          "output_type": "stream",
          "text": [
            "<Mesh with 1538 vertices, 1536 faces, 3072 edges>\n"
          ]
        }
      ],
      "source": [
        "mesh_json = compas.json_load(file_path)\n",
        "print(mesh_json)"
      ]
    }
  ],
  "metadata": {
    "kernelspec": {
      "display_name": "iass",
      "language": "python",
      "name": "python3"
    },
    "language_info": {
      "codemirror_mode": {
        "name": "ipython",
        "version": 3
      },
      "file_extension": ".py",
      "mimetype": "text/x-python",
      "name": "python",
      "nbconvert_exporter": "python",
      "pygments_lexer": "ipython3",
      "version": "3.12.4"
    }
  },
  "nbformat": 4,
  "nbformat_minor": 4
}
